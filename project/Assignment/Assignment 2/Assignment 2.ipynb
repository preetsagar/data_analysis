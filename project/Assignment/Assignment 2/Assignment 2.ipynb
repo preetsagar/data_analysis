{
 "cells": [
  {
   "cell_type": "code",
   "execution_count": null,
   "id": "5018de8e",
   "metadata": {},
   "outputs": [],
   "source": [
    "import pandas as pd\n",
    "import numpy as np\n",
    "from pandas import DataFrame"
   ]
  },
  {
   "cell_type": "code",
   "execution_count": null,
   "id": "0a0b478c",
   "metadata": {},
   "outputs": [],
   "source": [
    "excel=pd.ExcelFile('InputFile.xlsx')"
   ]
  },
  {
   "cell_type": "code",
   "execution_count": null,
   "id": "8d79fa44",
   "metadata": {},
   "outputs": [],
   "source": [
    "excel.parse('Sheet2').to_csv('sheet2.csv')\n",
    "excel.parse('Sheet3').to_csv('sheet3.csv')\n",
    "excel.parse('Sheet4').to_csv('sheet4.csv')\n",
    "excel.parse('Sheet5').to_csv('sheet5.csv')\n",
    "excel.parse('Sheet6').to_csv('sheet6.csv')\n",
    "excel.parse('Sheet7').to_csv('sheet7.csv')\n",
    "excel.parse('Sheet8').to_csv('sheet8.csv')\n",
    "excel.parse('Sheet9').to_csv('sheet9.csv')"
   ]
  },
  {
   "cell_type": "code",
   "execution_count": null,
   "id": "5d021023",
   "metadata": {
    "scrolled": false
   },
   "outputs": [],
   "source": [
    "pd.read_csv('sheet1.csv')"
   ]
  },
  {
   "cell_type": "code",
   "execution_count": null,
   "id": "56d7d7e5",
   "metadata": {},
   "outputs": [],
   "source": [
    "pd.read_csv('sheet9.csv')"
   ]
  },
  {
   "cell_type": "code",
   "execution_count": null,
   "id": "d283d234",
   "metadata": {},
   "outputs": [],
   "source": []
  }
 ],
 "metadata": {
  "kernelspec": {
   "display_name": "Python 3 (ipykernel)",
   "language": "python",
   "name": "python3"
  },
  "language_info": {
   "codemirror_mode": {
    "name": "ipython",
    "version": 3
   },
   "file_extension": ".py",
   "mimetype": "text/x-python",
   "name": "python",
   "nbconvert_exporter": "python",
   "pygments_lexer": "ipython3",
   "version": "3.9.7"
  }
 },
 "nbformat": 4,
 "nbformat_minor": 5
}
