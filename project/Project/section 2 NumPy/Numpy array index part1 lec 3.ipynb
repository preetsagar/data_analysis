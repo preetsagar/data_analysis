{
 "cells": [
  {
   "cell_type": "code",
   "execution_count": 1,
   "id": "d50a213c",
   "metadata": {},
   "outputs": [],
   "source": [
    "import numpy as np"
   ]
  },
  {
   "cell_type": "code",
   "execution_count": 12,
   "id": "97c1b146",
   "metadata": {},
   "outputs": [
    {
     "name": "stdout",
     "output_type": "stream",
     "text": [
      "[100 102 104 106 108 110 112 114 116 118 120 122 124 126 128 130 132 134\n",
      " 136 138 140 142 144 146 148]\n"
     ]
    }
   ],
   "source": [
    "arr = np.arange(100,150,2)\n",
    "print(arr)"
   ]
  },
  {
   "cell_type": "code",
   "execution_count": 4,
   "id": "984e654e",
   "metadata": {},
   "outputs": [
    {
     "name": "stdout",
     "output_type": "stream",
     "text": [
      "100\n",
      "102\n",
      "106\n"
     ]
    }
   ],
   "source": [
    "#access using indexes\n",
    "\n",
    "print(arr[0])\n",
    "print(arr[1])\n",
    "print(arr[3])"
   ]
  },
  {
   "cell_type": "code",
   "execution_count": 7,
   "id": "b24e10bd",
   "metadata": {},
   "outputs": [
    {
     "name": "stdout",
     "output_type": "stream",
     "text": [
      "[100 102 104 106 108]\n",
      "[148 146 144 142 140 138 136 134 132 130 128 126 124 122 120 118 116 114\n",
      " 112 110 108 106 104 102 100]\n"
     ]
    }
   ],
   "source": [
    "#slicing of array index arr(start:stop:step)\n",
    "\n",
    "print(arr[0:5:1])\n",
    "print(arr[::-1])"
   ]
  },
  {
   "cell_type": "code",
   "execution_count": 14,
   "id": "f01c488e",
   "metadata": {},
   "outputs": [
    {
     "name": "stdout",
     "output_type": "stream",
     "text": [
      "[100 102 104 106 108 110 112 114 116 118 120 122 124 126 128 130 132 134\n",
      " 136 138 140 142 144 146 148]\n",
      "[  0   0   0   0   0 110 112 114 116 118 120 122 124 126 128 130 132 134\n",
      " 136 138 140 142 144 146 148]\n"
     ]
    }
   ],
   "source": [
    "#update the array using slices\n",
    "\n",
    "print(arr)\n",
    "arr[0:5] = 0\n",
    "print(arr)"
   ]
  },
  {
   "cell_type": "code",
   "execution_count": 16,
   "id": "5be97ebe",
   "metadata": {},
   "outputs": [
    {
     "name": "stdout",
     "output_type": "stream",
     "text": [
      "[  0 110 112 114 116 118]\n",
      "[1 1 1 1 1 1]\n"
     ]
    }
   ],
   "source": [
    "#interesting about array - memory allocation - view vs copy\n",
    "\n",
    "arr2 = arr[4:10]\n",
    "print(arr2)\n",
    "arr2[:] = 1\n",
    "print(arr2)"
   ]
  },
  {
   "cell_type": "code",
   "execution_count": 17,
   "id": "b3abba5c",
   "metadata": {
    "scrolled": true
   },
   "outputs": [
    {
     "name": "stdout",
     "output_type": "stream",
     "text": [
      "[  0   0   0   0   1   1   1   1   1   1 120 122 124 126 128 130 132 134\n",
      " 136 138 140 142 144 146 148]\n"
     ]
    }
   ],
   "source": [
    "# whenever slicing is used no extra memory is allocated\n",
    "print(arr)"
   ]
  },
  {
   "cell_type": "code",
   "execution_count": 18,
   "id": "c5173136",
   "metadata": {},
   "outputs": [
    {
     "name": "stdout",
     "output_type": "stream",
     "text": [
      "[  0   0   0   0   1   1   1   1   1   1 120 122 124 126 128 130 132 134\n",
      " 136 138 140 142 144 146 148]\n"
     ]
    }
   ],
   "source": [
    "# copy() -> create new numpy memory for array\n",
    "\n",
    "arr3 = arr.copy()\n",
    "print(arr3)"
   ]
  },
  {
   "cell_type": "code",
   "execution_count": 19,
   "id": "b82a6a95",
   "metadata": {},
   "outputs": [],
   "source": [
    "arr[:] = 0"
   ]
  },
  {
   "cell_type": "code",
   "execution_count": 20,
   "id": "6ab2517a",
   "metadata": {},
   "outputs": [
    {
     "name": "stdout",
     "output_type": "stream",
     "text": [
      "[0 0 0 0 0 0 0 0 0 0 0 0 0 0 0 0 0 0 0 0 0 0 0 0 0]\n",
      "[  0   0   0   0   1   1   1   1   1   1 120 122 124 126 128 130 132 134\n",
      " 136 138 140 142 144 146 148]\n"
     ]
    }
   ],
   "source": [
    "print(arr)\n",
    "print(arr3)"
   ]
  },
  {
   "cell_type": "code",
   "execution_count": null,
   "id": "414dfda1",
   "metadata": {},
   "outputs": [],
   "source": []
  }
 ],
 "metadata": {
  "kernelspec": {
   "display_name": "Python 3 (ipykernel)",
   "language": "python",
   "name": "python3"
  },
  "language_info": {
   "codemirror_mode": {
    "name": "ipython",
    "version": 3
   },
   "file_extension": ".py",
   "mimetype": "text/x-python",
   "name": "python",
   "nbconvert_exporter": "python",
   "pygments_lexer": "ipython3",
   "version": "3.9.7"
  }
 },
 "nbformat": 4,
 "nbformat_minor": 5
}
