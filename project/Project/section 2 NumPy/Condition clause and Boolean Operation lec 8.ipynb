{
 "cells": [
  {
   "cell_type": "code",
   "execution_count": 1,
   "id": "8dfb77bc",
   "metadata": {},
   "outputs": [],
   "source": [
    "import numpy as np"
   ]
  },
  {
   "cell_type": "code",
   "execution_count": 2,
   "id": "d9c121e4",
   "metadata": {},
   "outputs": [
    {
     "name": "stdout",
     "output_type": "stream",
     "text": [
      "[100 400 -50 -40]\n",
      "[10 15 20 25]\n",
      "[ True  True False False]\n"
     ]
    }
   ],
   "source": [
    "x = np.array([100,400,-50,-40])#each ele a\n",
    "y = np.array([10,15,20,25])#each ele b\n",
    "condition = np.array([True,True,False, False])#each ele cond\n",
    "\n",
    "print(x)\n",
    "print(y)\n",
    "print(condition)"
   ]
  },
  {
   "cell_type": "code",
   "execution_count": 3,
   "id": "f9bc36f7",
   "metadata": {},
   "outputs": [],
   "source": [
    "#create an array based on condition, if it's true then value of x else y"
   ]
  },
  {
   "cell_type": "code",
   "execution_count": 4,
   "id": "e04387b9",
   "metadata": {},
   "outputs": [
    {
     "name": "stdout",
     "output_type": "stream",
     "text": [
      "[100, 400, 20, 25]\n"
     ]
    }
   ],
   "source": [
    "z = [a if cond else b for a,cond,b in zip(x,condition,y)]\n",
    "print(z)"
   ]
  },
  {
   "cell_type": "code",
   "execution_count": 5,
   "id": "a9053e1b",
   "metadata": {},
   "outputs": [],
   "source": [
    "#cons of these statement-> confusing, long statement"
   ]
  },
  {
   "cell_type": "code",
   "execution_count": 6,
   "id": "6ef73ed8",
   "metadata": {},
   "outputs": [],
   "source": [
    "#use np.where istead\n",
    "#np.where(condition,values for true,values for false)"
   ]
  },
  {
   "cell_type": "code",
   "execution_count": 7,
   "id": "432eb5c3",
   "metadata": {},
   "outputs": [
    {
     "name": "stdout",
     "output_type": "stream",
     "text": [
      "[100 400  20  25]\n"
     ]
    }
   ],
   "source": [
    "z2 = np.where(condition,x,y)\n",
    "print(z2)"
   ]
  },
  {
   "cell_type": "code",
   "execution_count": 12,
   "id": "911f5430",
   "metadata": {},
   "outputs": [
    {
     "name": "stdout",
     "output_type": "stream",
     "text": [
      "[100 400   0   0]\n"
     ]
    }
   ],
   "source": [
    "z3 = np.where(x>0,x,0)\n",
    "print(z3)"
   ]
  },
  {
   "cell_type": "code",
   "execution_count": 13,
   "id": "0e02ce40",
   "metadata": {},
   "outputs": [],
   "source": [
    "#np.sum()"
   ]
  },
  {
   "cell_type": "code",
   "execution_count": 14,
   "id": "256078ba",
   "metadata": {},
   "outputs": [
    {
     "name": "stdout",
     "output_type": "stream",
     "text": [
      "410\n"
     ]
    }
   ],
   "source": [
    "print(x.sum())"
   ]
  },
  {
   "cell_type": "code",
   "execution_count": 17,
   "id": "b94e0892",
   "metadata": {},
   "outputs": [
    {
     "name": "stdout",
     "output_type": "stream",
     "text": [
      "[[1 2]\n",
      " [3 4]]\n"
     ]
    }
   ],
   "source": [
    "x2 = np.array([[1,2],[3,4]])\n",
    "print(x2)"
   ]
  },
  {
   "cell_type": "code",
   "execution_count": 21,
   "id": "ff2bfe16",
   "metadata": {},
   "outputs": [
    {
     "name": "stdout",
     "output_type": "stream",
     "text": [
      "10\n",
      "[4 6]\n",
      "[3 7]\n"
     ]
    }
   ],
   "source": [
    "print(x2.sum())\n",
    "print(x2.sum(0))\n",
    "print(x2.sum(1))"
   ]
  },
  {
   "cell_type": "code",
   "execution_count": 22,
   "id": "37605bad",
   "metadata": {},
   "outputs": [],
   "source": [
    "#logical AND, OR operation - any(), all()"
   ]
  },
  {
   "cell_type": "code",
   "execution_count": 23,
   "id": "d30ee968",
   "metadata": {},
   "outputs": [
    {
     "name": "stdout",
     "output_type": "stream",
     "text": [
      "True\n",
      "False\n"
     ]
    }
   ],
   "source": [
    "condition2 = np.array([True,False,True])\n",
    "\n",
    "#OR\n",
    "print(condition.any())\n",
    "\n",
    "#and\n",
    "print(condition.all())"
   ]
  },
  {
   "cell_type": "code",
   "execution_count": 27,
   "id": "b88b99cc",
   "metadata": {},
   "outputs": [
    {
     "name": "stdout",
     "output_type": "stream",
     "text": [
      "[5 4 3 2 1]\n",
      "[1 2 3 4 5]\n"
     ]
    }
   ],
   "source": [
    "unsorted = np.array([5,4,3,2,1])\n",
    "print(unsorted)\n",
    "sort_arr = unsorted.sort()\n",
    "print(unsorted)"
   ]
  },
  {
   "cell_type": "code",
   "execution_count": 36,
   "id": "5f6ea845",
   "metadata": {},
   "outputs": [],
   "source": [
    "#np.unique()"
   ]
  },
  {
   "cell_type": "code",
   "execution_count": 37,
   "id": "7c30c55c",
   "metadata": {},
   "outputs": [
    {
     "name": "stdout",
     "output_type": "stream",
     "text": [
      "[ 1  2  4  1  5  2 56 12 12  2]\n",
      "[ 1  2  4  5 12 56]\n"
     ]
    }
   ],
   "source": [
    "arr2 = np.array([1,2,4,1,5,2,56,12,12,2])\n",
    "print(arr2)\n",
    "print(np.unique(arr2))"
   ]
  },
  {
   "cell_type": "code",
   "execution_count": 38,
   "id": "d3ad31f6",
   "metadata": {},
   "outputs": [],
   "source": [
    "#in1d()\n",
    "#to check whether the list is present in the array or not"
   ]
  },
  {
   "cell_type": "code",
   "execution_count": 39,
   "id": "43ae5a8f",
   "metadata": {},
   "outputs": [
    {
     "name": "stdout",
     "output_type": "stream",
     "text": [
      "[ True False  True False]\n"
     ]
    }
   ],
   "source": [
    "print(np.in1d([2,3,4,0],arr2))"
   ]
  },
  {
   "cell_type": "code",
   "execution_count": null,
   "id": "90a1c3f8",
   "metadata": {},
   "outputs": [],
   "source": []
  },
  {
   "cell_type": "code",
   "execution_count": null,
   "id": "53bf67a2",
   "metadata": {},
   "outputs": [],
   "source": []
  }
 ],
 "metadata": {
  "kernelspec": {
   "display_name": "Python 3 (ipykernel)",
   "language": "python",
   "name": "python3"
  },
  "language_info": {
   "codemirror_mode": {
    "name": "ipython",
    "version": 3
   },
   "file_extension": ".py",
   "mimetype": "text/x-python",
   "name": "python",
   "nbconvert_exporter": "python",
   "pygments_lexer": "ipython3",
   "version": "3.9.7"
  }
 },
 "nbformat": 4,
 "nbformat_minor": 5
}
