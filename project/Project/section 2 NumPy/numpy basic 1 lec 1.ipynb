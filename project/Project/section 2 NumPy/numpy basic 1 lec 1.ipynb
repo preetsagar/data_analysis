{
 "cells": [
  {
   "cell_type": "code",
   "execution_count": 1,
   "id": "39296135",
   "metadata": {},
   "outputs": [],
   "source": [
    "import numpy as np"
   ]
  },
  {
   "cell_type": "code",
   "execution_count": 2,
   "id": "65cf5057",
   "metadata": {},
   "outputs": [
    {
     "name": "stdout",
     "output_type": "stream",
     "text": [
      "[100 101 103]\n"
     ]
    }
   ],
   "source": [
    "#creating 1D numpy array\n",
    "\n",
    "mylist1 = [100,101,103]\n",
    "\n",
    "myarray = np.array(mylist1)\n",
    "\n",
    "print(myarray)"
   ]
  },
  {
   "cell_type": "code",
   "execution_count": 4,
   "id": "33c3689c",
   "metadata": {},
   "outputs": [
    {
     "name": "stdout",
     "output_type": "stream",
     "text": [
      "[[100 101 103]\n",
      " [200 201 202]]\n"
     ]
    }
   ],
   "source": [
    "#'creating 2d np array\n",
    "\n",
    "mylist2 = [200,201,202]\n",
    "\n",
    "myarray2d = np.array([mylist1, mylist2])\n",
    "\n",
    "print(myarray2d)"
   ]
  },
  {
   "cell_type": "code",
   "execution_count": 5,
   "id": "2c6174d0",
   "metadata": {},
   "outputs": [
    {
     "name": "stdout",
     "output_type": "stream",
     "text": [
      "(2, 3)\n"
     ]
    }
   ],
   "source": [
    "# shape tell the dimention of the array\n",
    "\n",
    "print(myarray2d.shape)"
   ]
  },
  {
   "cell_type": "code",
   "execution_count": 6,
   "id": "55273a0a",
   "metadata": {},
   "outputs": [
    {
     "name": "stdout",
     "output_type": "stream",
     "text": [
      "int32\n"
     ]
    }
   ],
   "source": [
    "# dtype tells the datatype\n",
    "\n",
    "print(myarray.dtype)"
   ]
  },
  {
   "cell_type": "code",
   "execution_count": 10,
   "id": "5850bca4",
   "metadata": {},
   "outputs": [
    {
     "name": "stdout",
     "output_type": "stream",
     "text": [
      "[0. 0. 0. 0. 0.]\n",
      "[[0. 0. 0.]\n",
      " [0. 0. 0.]\n",
      " [0. 0. 0.]\n",
      " [0. 0. 0.]\n",
      " [0. 0. 0.]]\n"
     ]
    }
   ],
   "source": [
    "#array creation and initialization function zeroes\n",
    "\n",
    "zero_array = np.zeros(5)\n",
    "print(zero_array)\n",
    "\n",
    "zero_array2d = np.zeros([5,3])\n",
    "print(zero_array2d)"
   ]
  },
  {
   "cell_type": "code",
   "execution_count": 11,
   "id": "e3d315f6",
   "metadata": {},
   "outputs": [
    {
     "name": "stdout",
     "output_type": "stream",
     "text": [
      "[1. 1. 1. 1. 1.]\n",
      "[[1. 1. 1.]\n",
      " [1. 1. 1.]\n",
      " [1. 1. 1.]\n",
      " [1. 1. 1.]\n",
      " [1. 1. 1.]]\n"
     ]
    }
   ],
   "source": [
    "#array creation and initialization function ones\n",
    "\n",
    "zero_array = np.ones(5)\n",
    "print(zero_array)\n",
    "\n",
    "zero_array2d = np.ones([5,3])\n",
    "print(zero_array2d)"
   ]
  },
  {
   "cell_type": "code",
   "execution_count": 12,
   "id": "6d066686",
   "metadata": {},
   "outputs": [
    {
     "name": "stdout",
     "output_type": "stream",
     "text": [
      "[1. 1. 1. 1. 1.]\n",
      "[[1. 1. 1.]\n",
      " [1. 1. 1.]\n",
      " [1. 1. 1.]\n",
      " [1. 1. 1.]\n",
      " [1. 1. 1.]]\n"
     ]
    }
   ],
   "source": [
    "#empty array gives junks value\n",
    "\n",
    "zero_array = np.empty(5)\n",
    "print(zero_array)\n",
    "\n",
    "zero_array2d = np.empty([5,3])\n",
    "print(zero_array2d)"
   ]
  },
  {
   "cell_type": "code",
   "execution_count": 13,
   "id": "ec89c392",
   "metadata": {},
   "outputs": [
    {
     "name": "stdout",
     "output_type": "stream",
     "text": [
      "[[1. 0. 0. 0. 0.]\n",
      " [0. 1. 0. 0. 0.]\n",
      " [0. 0. 1. 0. 0.]\n",
      " [0. 0. 0. 1. 0.]\n",
      " [0. 0. 0. 0. 1.]]\n"
     ]
    }
   ],
   "source": [
    "# eye - identity matrix\n",
    "\n",
    "identity_matrix = np.eye(5)\n",
    "print(identity_matrix)"
   ]
  },
  {
   "cell_type": "code",
   "execution_count": 17,
   "id": "fbfe42d9",
   "metadata": {},
   "outputs": [
    {
     "name": "stdout",
     "output_type": "stream",
     "text": [
      "[ 0  2  4  6  8 10 12 14 16 18 20 22 24 26 28 30 32 34 36 38 40 42 44 46\n",
      " 48]\n"
     ]
    }
   ],
   "source": [
    "#creating arrays in Arthematic Progression - arange\n",
    "\n",
    "ap_array = np.arange(0,50,2)\n",
    "print(ap_array)"
   ]
  },
  {
   "cell_type": "code",
   "execution_count": null,
   "id": "1c757ef0",
   "metadata": {},
   "outputs": [],
   "source": []
  }
 ],
 "metadata": {
  "kernelspec": {
   "display_name": "Python 3 (ipykernel)",
   "language": "python",
   "name": "python3"
  },
  "language_info": {
   "codemirror_mode": {
    "name": "ipython",
    "version": 3
   },
   "file_extension": ".py",
   "mimetype": "text/x-python",
   "name": "python",
   "nbconvert_exporter": "python",
   "pygments_lexer": "ipython3",
   "version": "3.9.7"
  }
 },
 "nbformat": 4,
 "nbformat_minor": 5
}
