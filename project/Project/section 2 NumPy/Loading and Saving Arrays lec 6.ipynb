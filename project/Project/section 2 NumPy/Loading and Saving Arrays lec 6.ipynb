{
 "cells": [
  {
   "cell_type": "code",
   "execution_count": 1,
   "id": "72ac95f4",
   "metadata": {},
   "outputs": [],
   "source": [
    "import numpy as np"
   ]
  },
  {
   "cell_type": "code",
   "execution_count": 2,
   "id": "9ba57349",
   "metadata": {},
   "outputs": [
    {
     "name": "stdout",
     "output_type": "stream",
     "text": [
      "[0 1 2 3 4 5 6 7 8 9]\n"
     ]
    }
   ],
   "source": [
    "arr = np.arange(10)\n",
    "print(arr)"
   ]
  },
  {
   "cell_type": "code",
   "execution_count": 3,
   "id": "55dc5f56",
   "metadata": {},
   "outputs": [],
   "source": [
    "#why do we need to save arrays to hard drive?"
   ]
  },
  {
   "cell_type": "code",
   "execution_count": 8,
   "id": "b9878e3d",
   "metadata": {},
   "outputs": [],
   "source": [
    "#saving single array\n",
    "\n",
    "np.save('saved_array',arr)"
   ]
  },
  {
   "cell_type": "code",
   "execution_count": 9,
   "id": "2c8dfd38",
   "metadata": {},
   "outputs": [
    {
     "name": "stdout",
     "output_type": "stream",
     "text": [
      "[0 1 2 3 4 5 6 7 8 9]\n"
     ]
    }
   ],
   "source": [
    "#load single array\n",
    "\n",
    "load_arr1 = np.load('saved_array.npy')\n",
    "print(load_arr1)"
   ]
  },
  {
   "cell_type": "code",
   "execution_count": 10,
   "id": "07578a9a",
   "metadata": {},
   "outputs": [],
   "source": [
    "#saving multiple array\n",
    "\n",
    "arr2 = np.arange(25)\n",
    "arr3 = np.arange(5)\n",
    "\n",
    "np.savez('Multiple_array.npz',x=arr2, y=arr3)"
   ]
  },
  {
   "cell_type": "code",
   "execution_count": 14,
   "id": "d6e817fc",
   "metadata": {},
   "outputs": [
    {
     "name": "stdout",
     "output_type": "stream",
     "text": [
      "[ 0  1  2  3  4  5  6  7  8  9 10 11 12 13 14 15 16 17 18 19 20 21 22 23\n",
      " 24]\n",
      "[0 1 2 3 4]\n"
     ]
    }
   ],
   "source": [
    "#loading multiple file\n",
    "load_npz = np.load('Multiple_array.npz')\n",
    "print(load_npz['x'])\n",
    "print(load_npz['y'])"
   ]
  },
  {
   "cell_type": "code",
   "execution_count": 15,
   "id": "8cade17a",
   "metadata": {},
   "outputs": [],
   "source": [
    "#saving array in text format\n",
    "\n",
    "np.savetxt('myarray.txt',arr2,delimiter=',')"
   ]
  },
  {
   "cell_type": "code",
   "execution_count": 17,
   "id": "13fed9c6",
   "metadata": {},
   "outputs": [
    {
     "name": "stdout",
     "output_type": "stream",
     "text": [
      "[ 0.  1.  2.  3.  4.  5.  6.  7.  8.  9. 10. 11. 12. 13. 14. 15. 16. 17.\n",
      " 18. 19. 20. 21. 22. 23. 24.]\n"
     ]
    }
   ],
   "source": [
    "#loading array in txt fromat\n",
    "\n",
    "load_txt = np.loadtxt('myarray.txt',delimiter=',')\n",
    "print(load_txt)"
   ]
  },
  {
   "cell_type": "code",
   "execution_count": null,
   "id": "96954904",
   "metadata": {},
   "outputs": [],
   "source": [
    "#delimeter is used to seperate values of array"
   ]
  }
 ],
 "metadata": {
  "kernelspec": {
   "display_name": "Python 3 (ipykernel)",
   "language": "python",
   "name": "python3"
  },
  "language_info": {
   "codemirror_mode": {
    "name": "ipython",
    "version": 3
   },
   "file_extension": ".py",
   "mimetype": "text/x-python",
   "name": "python",
   "nbconvert_exporter": "python",
   "pygments_lexer": "ipython3",
   "version": "3.9.7"
  }
 },
 "nbformat": 4,
 "nbformat_minor": 5
}
