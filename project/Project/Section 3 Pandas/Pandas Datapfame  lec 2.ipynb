{
 "cells": [
  {
   "cell_type": "code",
   "execution_count": 3,
   "id": "96921d2e",
   "metadata": {},
   "outputs": [],
   "source": [
    "import numpy as np\n",
    "import pandas as pd\n",
    "from pandas import Series,DataFrame"
   ]
  },
  {
   "cell_type": "code",
   "execution_count": 4,
   "id": "8a6047d0",
   "metadata": {},
   "outputs": [],
   "source": [
    "#whatis DataFrame\n",
    "#2d datastructure with 3 principle component(Rows, colmn, value)\n",
    "#similar to table in an excel sheet\n",
    "#labeled rows and colm values\n",
    "#size is mutable"
   ]
  },
  {
   "cell_type": "code",
   "execution_count": 5,
   "id": "48679e3c",
   "metadata": {},
   "outputs": [],
   "source": [
    "#create a dataframe from clipboard"
   ]
  },
  {
   "cell_type": "code",
   "execution_count": 6,
   "id": "bc2d5e15",
   "metadata": {},
   "outputs": [
    {
     "name": "stdout",
     "output_type": "stream",
     "text": [
      "  First name   Last name  Age\n",
      "0       Tinu    Elejogun   14\n",
      "1     Javier      Zapata   28\n",
      "2       Lily   McGarrett   18\n",
      "3  Olatunkbo    Chijiaku   22\n",
      "4   Adrienne    Anthoula   22\n",
      "5     Axelia  Athanasios   22\n",
      "6  Jon-Kabat        Zinn   22\n",
      "7    Thabang       Mosoa   15\n",
      "8      Rhian       Ellis   12\n"
     ]
    }
   ],
   "source": [
    "age_df = pd.read_clipboard()\n",
    "print(age_df)"
   ]
  },
  {
   "cell_type": "code",
   "execution_count": 7,
   "id": "cb7ce5ca",
   "metadata": {},
   "outputs": [],
   "source": [
    "#display Column Names"
   ]
  },
  {
   "cell_type": "code",
   "execution_count": 8,
   "id": "cdfeda55",
   "metadata": {},
   "outputs": [
    {
     "data": {
      "text/plain": [
       "Index(['First name', 'Last name', 'Age'], dtype='object')"
      ]
     },
     "execution_count": 8,
     "metadata": {},
     "output_type": "execute_result"
    }
   ],
   "source": [
    "age_df.columns"
   ]
  },
  {
   "cell_type": "code",
   "execution_count": 9,
   "id": "ecf4a2ef",
   "metadata": {},
   "outputs": [],
   "source": [
    "#access column values"
   ]
  },
  {
   "cell_type": "code",
   "execution_count": 10,
   "id": "57c1c2c4",
   "metadata": {},
   "outputs": [
    {
     "data": {
      "text/plain": [
       "0         Tinu\n",
       "1       Javier\n",
       "2         Lily\n",
       "3    Olatunkbo\n",
       "4     Adrienne\n",
       "5       Axelia\n",
       "6    Jon-Kabat\n",
       "7      Thabang\n",
       "8        Rhian\n",
       "Name: First name, dtype: object"
      ]
     },
     "execution_count": 10,
     "metadata": {},
     "output_type": "execute_result"
    }
   ],
   "source": [
    "age_df['First name']"
   ]
  },
  {
   "cell_type": "code",
   "execution_count": 11,
   "id": "8cfe16df",
   "metadata": {},
   "outputs": [
    {
     "data": {
      "text/html": [
       "<div>\n",
       "<style scoped>\n",
       "    .dataframe tbody tr th:only-of-type {\n",
       "        vertical-align: middle;\n",
       "    }\n",
       "\n",
       "    .dataframe tbody tr th {\n",
       "        vertical-align: top;\n",
       "    }\n",
       "\n",
       "    .dataframe thead th {\n",
       "        text-align: right;\n",
       "    }\n",
       "</style>\n",
       "<table border=\"1\" class=\"dataframe\">\n",
       "  <thead>\n",
       "    <tr style=\"text-align: right;\">\n",
       "      <th></th>\n",
       "      <th>First name</th>\n",
       "      <th>Age</th>\n",
       "    </tr>\n",
       "  </thead>\n",
       "  <tbody>\n",
       "    <tr>\n",
       "      <th>0</th>\n",
       "      <td>Tinu</td>\n",
       "      <td>14</td>\n",
       "    </tr>\n",
       "    <tr>\n",
       "      <th>1</th>\n",
       "      <td>Javier</td>\n",
       "      <td>28</td>\n",
       "    </tr>\n",
       "    <tr>\n",
       "      <th>2</th>\n",
       "      <td>Lily</td>\n",
       "      <td>18</td>\n",
       "    </tr>\n",
       "    <tr>\n",
       "      <th>3</th>\n",
       "      <td>Olatunkbo</td>\n",
       "      <td>22</td>\n",
       "    </tr>\n",
       "    <tr>\n",
       "      <th>4</th>\n",
       "      <td>Adrienne</td>\n",
       "      <td>22</td>\n",
       "    </tr>\n",
       "    <tr>\n",
       "      <th>5</th>\n",
       "      <td>Axelia</td>\n",
       "      <td>22</td>\n",
       "    </tr>\n",
       "    <tr>\n",
       "      <th>6</th>\n",
       "      <td>Jon-Kabat</td>\n",
       "      <td>22</td>\n",
       "    </tr>\n",
       "    <tr>\n",
       "      <th>7</th>\n",
       "      <td>Thabang</td>\n",
       "      <td>15</td>\n",
       "    </tr>\n",
       "    <tr>\n",
       "      <th>8</th>\n",
       "      <td>Rhian</td>\n",
       "      <td>12</td>\n",
       "    </tr>\n",
       "  </tbody>\n",
       "</table>\n",
       "</div>"
      ],
      "text/plain": [
       "  First name  Age\n",
       "0       Tinu   14\n",
       "1     Javier   28\n",
       "2       Lily   18\n",
       "3  Olatunkbo   22\n",
       "4   Adrienne   22\n",
       "5     Axelia   22\n",
       "6  Jon-Kabat   22\n",
       "7    Thabang   15\n",
       "8      Rhian   12"
      ]
     },
     "execution_count": 11,
     "metadata": {},
     "output_type": "execute_result"
    }
   ],
   "source": [
    "age_df[['First name', 'Age']]"
   ]
  },
  {
   "cell_type": "code",
   "execution_count": 12,
   "id": "f7aaa9e4",
   "metadata": {},
   "outputs": [],
   "source": [
    "#what  is NAN Value"
   ]
  },
  {
   "cell_type": "code",
   "execution_count": 13,
   "id": "d6950d08",
   "metadata": {},
   "outputs": [],
   "source": [
    "#whenever value is not present"
   ]
  },
  {
   "cell_type": "code",
   "execution_count": 14,
   "id": "99a9d29c",
   "metadata": {},
   "outputs": [
    {
     "name": "stdout",
     "output_type": "stream",
     "text": [
      "  First name   Last name  Age  rank\n",
      "0       Tinu    Elejogun   14   NaN\n",
      "1     Javier      Zapata   28   NaN\n",
      "2       Lily   McGarrett   18   NaN\n",
      "3  Olatunkbo    Chijiaku   22   NaN\n",
      "4   Adrienne    Anthoula   22   NaN\n",
      "5     Axelia  Athanasios   22   NaN\n",
      "6  Jon-Kabat        Zinn   22   NaN\n",
      "7    Thabang       Mosoa   15   NaN\n",
      "8      Rhian       Ellis   12   NaN\n"
     ]
    }
   ],
   "source": [
    "age_df['rank'] = np.nan\n",
    "print(age_df)"
   ]
  },
  {
   "cell_type": "code",
   "execution_count": 15,
   "id": "df9ddb74",
   "metadata": {},
   "outputs": [],
   "source": [
    "#head and tail function"
   ]
  },
  {
   "cell_type": "code",
   "execution_count": 16,
   "id": "e3ec0109",
   "metadata": {},
   "outputs": [
    {
     "data": {
      "text/html": [
       "<div>\n",
       "<style scoped>\n",
       "    .dataframe tbody tr th:only-of-type {\n",
       "        vertical-align: middle;\n",
       "    }\n",
       "\n",
       "    .dataframe tbody tr th {\n",
       "        vertical-align: top;\n",
       "    }\n",
       "\n",
       "    .dataframe thead th {\n",
       "        text-align: right;\n",
       "    }\n",
       "</style>\n",
       "<table border=\"1\" class=\"dataframe\">\n",
       "  <thead>\n",
       "    <tr style=\"text-align: right;\">\n",
       "      <th></th>\n",
       "      <th>First name</th>\n",
       "      <th>Last name</th>\n",
       "      <th>Age</th>\n",
       "      <th>rank</th>\n",
       "    </tr>\n",
       "  </thead>\n",
       "  <tbody>\n",
       "    <tr>\n",
       "      <th>0</th>\n",
       "      <td>Tinu</td>\n",
       "      <td>Elejogun</td>\n",
       "      <td>14</td>\n",
       "      <td>NaN</td>\n",
       "    </tr>\n",
       "    <tr>\n",
       "      <th>1</th>\n",
       "      <td>Javier</td>\n",
       "      <td>Zapata</td>\n",
       "      <td>28</td>\n",
       "      <td>NaN</td>\n",
       "    </tr>\n",
       "    <tr>\n",
       "      <th>2</th>\n",
       "      <td>Lily</td>\n",
       "      <td>McGarrett</td>\n",
       "      <td>18</td>\n",
       "      <td>NaN</td>\n",
       "    </tr>\n",
       "    <tr>\n",
       "      <th>3</th>\n",
       "      <td>Olatunkbo</td>\n",
       "      <td>Chijiaku</td>\n",
       "      <td>22</td>\n",
       "      <td>NaN</td>\n",
       "    </tr>\n",
       "    <tr>\n",
       "      <th>4</th>\n",
       "      <td>Adrienne</td>\n",
       "      <td>Anthoula</td>\n",
       "      <td>22</td>\n",
       "      <td>NaN</td>\n",
       "    </tr>\n",
       "  </tbody>\n",
       "</table>\n",
       "</div>"
      ],
      "text/plain": [
       "  First name  Last name  Age  rank\n",
       "0       Tinu   Elejogun   14   NaN\n",
       "1     Javier     Zapata   28   NaN\n",
       "2       Lily  McGarrett   18   NaN\n",
       "3  Olatunkbo   Chijiaku   22   NaN\n",
       "4   Adrienne   Anthoula   22   NaN"
      ]
     },
     "execution_count": 16,
     "metadata": {},
     "output_type": "execute_result"
    }
   ],
   "source": [
    "age_df.head()\n",
    "#first five rows"
   ]
  },
  {
   "cell_type": "code",
   "execution_count": 17,
   "id": "356cfdad",
   "metadata": {},
   "outputs": [
    {
     "data": {
      "text/html": [
       "<div>\n",
       "<style scoped>\n",
       "    .dataframe tbody tr th:only-of-type {\n",
       "        vertical-align: middle;\n",
       "    }\n",
       "\n",
       "    .dataframe tbody tr th {\n",
       "        vertical-align: top;\n",
       "    }\n",
       "\n",
       "    .dataframe thead th {\n",
       "        text-align: right;\n",
       "    }\n",
       "</style>\n",
       "<table border=\"1\" class=\"dataframe\">\n",
       "  <thead>\n",
       "    <tr style=\"text-align: right;\">\n",
       "      <th></th>\n",
       "      <th>First name</th>\n",
       "      <th>Last name</th>\n",
       "      <th>Age</th>\n",
       "      <th>rank</th>\n",
       "    </tr>\n",
       "  </thead>\n",
       "  <tbody>\n",
       "    <tr>\n",
       "      <th>4</th>\n",
       "      <td>Adrienne</td>\n",
       "      <td>Anthoula</td>\n",
       "      <td>22</td>\n",
       "      <td>NaN</td>\n",
       "    </tr>\n",
       "    <tr>\n",
       "      <th>5</th>\n",
       "      <td>Axelia</td>\n",
       "      <td>Athanasios</td>\n",
       "      <td>22</td>\n",
       "      <td>NaN</td>\n",
       "    </tr>\n",
       "    <tr>\n",
       "      <th>6</th>\n",
       "      <td>Jon-Kabat</td>\n",
       "      <td>Zinn</td>\n",
       "      <td>22</td>\n",
       "      <td>NaN</td>\n",
       "    </tr>\n",
       "    <tr>\n",
       "      <th>7</th>\n",
       "      <td>Thabang</td>\n",
       "      <td>Mosoa</td>\n",
       "      <td>15</td>\n",
       "      <td>NaN</td>\n",
       "    </tr>\n",
       "    <tr>\n",
       "      <th>8</th>\n",
       "      <td>Rhian</td>\n",
       "      <td>Ellis</td>\n",
       "      <td>12</td>\n",
       "      <td>NaN</td>\n",
       "    </tr>\n",
       "  </tbody>\n",
       "</table>\n",
       "</div>"
      ],
      "text/plain": [
       "  First name   Last name  Age  rank\n",
       "4   Adrienne    Anthoula   22   NaN\n",
       "5     Axelia  Athanasios   22   NaN\n",
       "6  Jon-Kabat        Zinn   22   NaN\n",
       "7    Thabang       Mosoa   15   NaN\n",
       "8      Rhian       Ellis   12   NaN"
      ]
     },
     "execution_count": 17,
     "metadata": {},
     "output_type": "execute_result"
    }
   ],
   "source": [
    "age_df.tail()\n",
    "#last 5 element"
   ]
  },
  {
   "cell_type": "code",
   "execution_count": 18,
   "id": "d1e93c69",
   "metadata": {},
   "outputs": [],
   "source": [
    "#assign values to a dataframe usiing 1.Numpy 2.series"
   ]
  },
  {
   "cell_type": "code",
   "execution_count": 24,
   "id": "406aa8e9",
   "metadata": {},
   "outputs": [
    {
     "name": "stdout",
     "output_type": "stream",
     "text": [
      "[0 1 2 3 4 5 6 7 8]\n"
     ]
    }
   ],
   "source": [
    "array = np.arange(9)\n",
    "print(array)"
   ]
  },
  {
   "cell_type": "code",
   "execution_count": 25,
   "id": "c7befb5c",
   "metadata": {},
   "outputs": [
    {
     "name": "stdout",
     "output_type": "stream",
     "text": [
      "  First name   Last name  Age  rank\n",
      "0       Tinu    Elejogun   14     0\n",
      "1     Javier      Zapata   28     1\n",
      "2       Lily   McGarrett   18     2\n",
      "3  Olatunkbo    Chijiaku   22     3\n",
      "4   Adrienne    Anthoula   22     4\n",
      "5     Axelia  Athanasios   22     5\n",
      "6  Jon-Kabat        Zinn   22     6\n",
      "7    Thabang       Mosoa   15     7\n",
      "8      Rhian       Ellis   12     8\n"
     ]
    }
   ],
   "source": [
    "age_df['rank'] = array\n",
    "print(age_df)"
   ]
  },
  {
   "cell_type": "code",
   "execution_count": 27,
   "id": "79dc1e13",
   "metadata": {},
   "outputs": [
    {
     "name": "stdout",
     "output_type": "stream",
     "text": [
      "3    10\n",
      "5    11\n",
      "6    12\n",
      "dtype: int64\n",
      "  First name   Last name  Age  rank\n",
      "0       Tinu    Elejogun   14   NaN\n",
      "1     Javier      Zapata   28   NaN\n",
      "2       Lily   McGarrett   18   NaN\n",
      "3  Olatunkbo    Chijiaku   22  10.0\n",
      "4   Adrienne    Anthoula   22   NaN\n",
      "5     Axelia  Athanasios   22  11.0\n",
      "6  Jon-Kabat        Zinn   22  12.0\n",
      "7    Thabang       Mosoa   15   NaN\n",
      "8      Rhian       Ellis   12   NaN\n"
     ]
    }
   ],
   "source": [
    "new_rank_series = Series([10,11,12],index=[3,5,6])\n",
    "print(new_rank_series)\n",
    "age_df['rank'] = new_rank_series\n",
    "print(age_df)"
   ]
  },
  {
   "cell_type": "code",
   "execution_count": 28,
   "id": "429aa5a3",
   "metadata": {},
   "outputs": [],
   "source": [
    "#delete a column"
   ]
  },
  {
   "cell_type": "code",
   "execution_count": 29,
   "id": "9ee60090",
   "metadata": {},
   "outputs": [
    {
     "name": "stdout",
     "output_type": "stream",
     "text": [
      "  First name  Age  rank\n",
      "0       Tinu   14   NaN\n",
      "1     Javier   28   NaN\n",
      "2       Lily   18   NaN\n",
      "3  Olatunkbo   22  10.0\n",
      "4   Adrienne   22   NaN\n",
      "5     Axelia   22  11.0\n",
      "6  Jon-Kabat   22  12.0\n",
      "7    Thabang   15   NaN\n",
      "8      Rhian   12   NaN\n"
     ]
    }
   ],
   "source": [
    "del(age_df['Last name'])\n",
    "print(age_df)"
   ]
  },
  {
   "cell_type": "code",
   "execution_count": 30,
   "id": "921d26ff",
   "metadata": {},
   "outputs": [],
   "source": [
    "#convert Diictionary to dataframe"
   ]
  },
  {
   "cell_type": "code",
   "execution_count": 31,
   "id": "c1dd7ca3",
   "metadata": {},
   "outputs": [
    {
     "name": "stdout",
     "output_type": "stream",
     "text": [
      "{'company': ['Nastle', 'PG'], 'Profit': [1000, 500]}\n"
     ]
    }
   ],
   "source": [
    "simple_dict = {\n",
    "    'company' : ['Nastle', 'PG'],\n",
    "    'Profit' : [1000,500]\n",
    "}\n",
    "print(simple_dict)"
   ]
  },
  {
   "cell_type": "code",
   "execution_count": 33,
   "id": "cfdb93f9",
   "metadata": {},
   "outputs": [
    {
     "name": "stdout",
     "output_type": "stream",
     "text": [
      "  company  Profit\n",
      "0  Nastle    1000\n",
      "1      PG     500\n"
     ]
    }
   ],
   "source": [
    "sample_df = DataFrame(simple_dict)\n",
    "print(sample_df)"
   ]
  },
  {
   "cell_type": "code",
   "execution_count": null,
   "id": "1394c6a8",
   "metadata": {},
   "outputs": [],
   "source": []
  }
 ],
 "metadata": {
  "kernelspec": {
   "display_name": "Python 3 (ipykernel)",
   "language": "python",
   "name": "python3"
  },
  "language_info": {
   "codemirror_mode": {
    "name": "ipython",
    "version": 3
   },
   "file_extension": ".py",
   "mimetype": "text/x-python",
   "name": "python",
   "nbconvert_exporter": "python",
   "pygments_lexer": "ipython3",
   "version": "3.9.7"
  }
 },
 "nbformat": 4,
 "nbformat_minor": 5
}
