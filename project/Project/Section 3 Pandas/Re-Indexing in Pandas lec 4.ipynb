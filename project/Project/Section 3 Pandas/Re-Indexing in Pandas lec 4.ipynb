{
 "cells": [
  {
   "cell_type": "code",
   "execution_count": 1,
   "id": "f52d6845",
   "metadata": {},
   "outputs": [],
   "source": [
    "import numpy as np\n",
    "import pandas as pd\n",
    "from pandas import Series, DataFrame"
   ]
  },
  {
   "cell_type": "code",
   "execution_count": 2,
   "id": "68f3167d",
   "metadata": {},
   "outputs": [
    {
     "name": "stdout",
     "output_type": "stream",
     "text": [
      "a    1\n",
      "b    2\n",
      "c    3\n",
      "d    4\n",
      "dtype: int64\n"
     ]
    }
   ],
   "source": [
    "s1 = Series([1,2,3,4], index = ['a','b','c','d'])\n",
    "print(s1)"
   ]
  },
  {
   "cell_type": "code",
   "execution_count": 3,
   "id": "9c53b89f",
   "metadata": {},
   "outputs": [
    {
     "name": "stdout",
     "output_type": "stream",
     "text": [
      "a    1.0\n",
      "b    2.0\n",
      "c    3.0\n",
      "d    4.0\n",
      "e    NaN\n",
      "f    NaN\n",
      "dtype: float64\n"
     ]
    }
   ],
   "source": [
    "s1 = s1.reindex(['a','b','c','d','e','f'])\n",
    "print(s1)"
   ]
  },
  {
   "cell_type": "code",
   "execution_count": 4,
   "id": "f64f0e97",
   "metadata": {},
   "outputs": [],
   "source": [
    "#reindex with fill values"
   ]
  },
  {
   "cell_type": "code",
   "execution_count": 6,
   "id": "cfa5d434",
   "metadata": {},
   "outputs": [
    {
     "name": "stdout",
     "output_type": "stream",
     "text": [
      "a      1.0\n",
      "b      2.0\n",
      "c      3.0\n",
      "d      4.0\n",
      "e      NaN\n",
      "f      NaN\n",
      "g    100.0\n",
      "dtype: float64\n"
     ]
    }
   ],
   "source": [
    "s1 = s1.reindex(['a','b','c','d','e','f','g'],fill_value=100)\n",
    "print(s1)"
   ]
  },
  {
   "cell_type": "code",
   "execution_count": 7,
   "id": "3ced0db9",
   "metadata": {},
   "outputs": [],
   "source": [
    "#Reindexing in Series - forwardfill"
   ]
  },
  {
   "cell_type": "code",
   "execution_count": 8,
   "id": "fae8077d",
   "metadata": {},
   "outputs": [
    {
     "name": "stdout",
     "output_type": "stream",
     "text": [
      "0    A\n",
      "4    B\n",
      "8    C\n",
      "dtype: object\n"
     ]
    }
   ],
   "source": [
    "cars = Series(['A','B','C'],index=[0,4,8])\n",
    "print(cars)"
   ]
  },
  {
   "cell_type": "code",
   "execution_count": 10,
   "id": "c1c61cd4",
   "metadata": {},
   "outputs": [
    {
     "name": "stdout",
     "output_type": "stream",
     "text": [
      "0     A\n",
      "1     A\n",
      "2     A\n",
      "3     A\n",
      "4     B\n",
      "5     B\n",
      "6     B\n",
      "7     B\n",
      "8     C\n",
      "9     C\n",
      "10    C\n",
      "11    C\n",
      "dtype: object\n"
     ]
    }
   ],
   "source": [
    "new_index = range(12)\n",
    "cars = cars.reindex(new_index, method=\"ffill\")\n",
    "print(cars)"
   ]
  },
  {
   "cell_type": "code",
   "execution_count": 11,
   "id": "9fe9866d",
   "metadata": {},
   "outputs": [],
   "source": [
    "#reindexing in DataFrame"
   ]
  },
  {
   "cell_type": "code",
   "execution_count": 17,
   "id": "33576b97",
   "metadata": {},
   "outputs": [
    {
     "name": "stdout",
     "output_type": "stream",
     "text": [
      "          c1        c2        c3        c4        c5\n",
      "r1  0.154327  0.698105  0.826782  0.132137  0.417039\n",
      "r2  0.432511  0.530253  0.827744  0.998246  0.230871\n",
      "r3  0.058206  0.172278  0.509830  0.202645  0.260445\n",
      "r4  0.074208  0.485207  0.808219  0.973523  0.396546\n",
      "r5  0.129442  0.198242  0.157559  0.322086  0.435043\n"
     ]
    }
   ],
   "source": [
    "df1 = DataFrame(np.random.rand(25).reshape(5,5),columns=['c1','c2','c3','c4','c5'],index = ['r1','r2','r3','r4','r5'])\n",
    "print(df1)"
   ]
  },
  {
   "cell_type": "code",
   "execution_count": 20,
   "id": "552f57fb",
   "metadata": {},
   "outputs": [
    {
     "name": "stdout",
     "output_type": "stream",
     "text": [
      "          c1        c2        c3        c4        c5  c6\n",
      "r1  0.154327  0.698105  0.826782  0.132137  0.417039 NaN\n",
      "r2  0.432511  0.530253  0.827744  0.998246  0.230871 NaN\n",
      "r3  0.058206  0.172278  0.509830  0.202645  0.260445 NaN\n",
      "r4  0.074208  0.485207  0.808219  0.973523  0.396546 NaN\n",
      "r5  0.129442  0.198242  0.157559  0.322086  0.435043 NaN\n",
      "r6       NaN       NaN       NaN       NaN       NaN NaN\n"
     ]
    }
   ],
   "source": [
    "df1 = df1.reindex(index = ['r1','r2','r3','r4','r5','r6'],columns=['c1','c2','c3','c4','c5','c6'])\n",
    "print(df1)"
   ]
  },
  {
   "cell_type": "code",
   "execution_count": null,
   "id": "9f217dd7",
   "metadata": {},
   "outputs": [],
   "source": []
  }
 ],
 "metadata": {
  "kernelspec": {
   "display_name": "Python 3 (ipykernel)",
   "language": "python",
   "name": "python3"
  },
  "language_info": {
   "codemirror_mode": {
    "name": "ipython",
    "version": 3
   },
   "file_extension": ".py",
   "mimetype": "text/x-python",
   "name": "python",
   "nbconvert_exporter": "python",
   "pygments_lexer": "ipython3",
   "version": "3.9.7"
  }
 },
 "nbformat": 4,
 "nbformat_minor": 5
}
