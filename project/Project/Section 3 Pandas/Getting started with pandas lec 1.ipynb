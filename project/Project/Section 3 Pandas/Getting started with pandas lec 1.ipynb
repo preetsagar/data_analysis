{
 "cells": [
  {
   "cell_type": "code",
   "execution_count": 19,
   "id": "66a617ca",
   "metadata": {},
   "outputs": [],
   "source": [
    "import numpy as np"
   ]
  },
  {
   "cell_type": "code",
   "execution_count": 2,
   "id": "015fda6c",
   "metadata": {},
   "outputs": [
    {
     "name": "stdout",
     "output_type": "stream",
     "text": [
      "Requirement already satisfied: pandas in c:\\users\\legion\\anaconda3\\lib\\site-packages (1.4.3)\n",
      "Requirement already satisfied: pytz>=2020.1 in c:\\users\\legion\\anaconda3\\lib\\site-packages (from pandas) (2021.3)\n",
      "Requirement already satisfied: numpy>=1.18.5 in c:\\users\\legion\\anaconda3\\lib\\site-packages (from pandas) (1.20.3)\n",
      "Requirement already satisfied: python-dateutil>=2.8.1 in c:\\users\\legion\\anaconda3\\lib\\site-packages (from pandas) (2.8.2)\n",
      "Requirement already satisfied: six>=1.5 in c:\\users\\legion\\anaconda3\\lib\\site-packages (from python-dateutil>=2.8.1->pandas) (1.16.0)\n"
     ]
    }
   ],
   "source": [
    "!pip install pandas"
   ]
  },
  {
   "cell_type": "code",
   "execution_count": 3,
   "id": "2b254f8a",
   "metadata": {},
   "outputs": [],
   "source": [
    "#What is Pandas\n",
    "#what is series"
   ]
  },
  {
   "cell_type": "code",
   "execution_count": 4,
   "id": "d5a98ae0",
   "metadata": {},
   "outputs": [],
   "source": [
    "#pandas -> high level data manupulation tool\n",
    "#       -> built in numpy library\n",
    "#       -> extends the functionality of numpy\n",
    "#       -> provides two data structure(series and dataframe)"
   ]
  },
  {
   "cell_type": "code",
   "execution_count": 5,
   "id": "0cc4d790",
   "metadata": {},
   "outputs": [],
   "source": [
    "#what is series"
   ]
  },
  {
   "cell_type": "code",
   "execution_count": 6,
   "id": "6f876fb3",
   "metadata": {},
   "outputs": [],
   "source": [
    "#series is 1d labeled Array\n",
    "#capable of holding data of any type\n",
    "#series has indexes similar to numpy\n",
    "#indexes can be numerical or char labels\n",
    "#like 1 column of an exel sheet"
   ]
  },
  {
   "cell_type": "code",
   "execution_count": 23,
   "id": "e40b6640",
   "metadata": {},
   "outputs": [],
   "source": [
    "import pandas as pd\n",
    "from pandas import Series"
   ]
  },
  {
   "cell_type": "code",
   "execution_count": 12,
   "id": "b958d31e",
   "metadata": {},
   "outputs": [
    {
     "name": "stdout",
     "output_type": "stream",
     "text": [
      "0     5\n",
      "1    10\n",
      "2    15\n",
      "3    20\n",
      "dtype: int64\n"
     ]
    }
   ],
   "source": [
    "#create a simple series variable\n",
    "s1 = Series([5,10,15,20])\n",
    "print(s1)"
   ]
  },
  {
   "cell_type": "code",
   "execution_count": 13,
   "id": "88bdb58c",
   "metadata": {},
   "outputs": [
    {
     "name": "stdout",
     "output_type": "stream",
     "text": [
      "[ 5 10 15 20]\n"
     ]
    }
   ],
   "source": [
    "print(s1.values)"
   ]
  },
  {
   "cell_type": "code",
   "execution_count": 15,
   "id": "2b3fba31",
   "metadata": {},
   "outputs": [
    {
     "name": "stdout",
     "output_type": "stream",
     "text": [
      "RangeIndex(start=0, stop=4, step=1)\n"
     ]
    }
   ],
   "source": [
    "print(s1.index)"
   ]
  },
  {
   "cell_type": "code",
   "execution_count": 16,
   "id": "775eac84",
   "metadata": {},
   "outputs": [
    {
     "name": "stdout",
     "output_type": "stream",
     "text": [
      "[0 1 2 3]\n"
     ]
    }
   ],
   "source": [
    "print(s1.index.values)"
   ]
  },
  {
   "cell_type": "code",
   "execution_count": 17,
   "id": "2df78d34",
   "metadata": {},
   "outputs": [],
   "source": [
    "#create Series from numpy"
   ]
  },
  {
   "cell_type": "code",
   "execution_count": 20,
   "id": "3e60456c",
   "metadata": {},
   "outputs": [
    {
     "name": "stdout",
     "output_type": "stream",
     "text": [
      "[400 300 200 100]\n"
     ]
    }
   ],
   "source": [
    "revenue_arr = np.array([400,300,200,100])\n",
    "print(revenue_arr)"
   ]
  },
  {
   "cell_type": "code",
   "execution_count": 25,
   "id": "ca4393f3",
   "metadata": {},
   "outputs": [
    {
     "name": "stdout",
     "output_type": "stream",
     "text": [
      "0    400\n",
      "1    300\n",
      "2    200\n",
      "3    100\n",
      "dtype: int32\n"
     ]
    }
   ],
   "source": [
    "revenue_series = pd.Series(revenue_arr)\n",
    "print(revenue_series)"
   ]
  },
  {
   "cell_type": "code",
   "execution_count": 27,
   "id": "816d1c50",
   "metadata": {},
   "outputs": [],
   "source": [
    "#create series with custom indexes"
   ]
  },
  {
   "cell_type": "code",
   "execution_count": 29,
   "id": "ca695bb9",
   "metadata": {},
   "outputs": [
    {
     "name": "stdout",
     "output_type": "stream",
     "text": [
      "uber    400\n",
      "ola     300\n",
      "cscw    200\n",
      "wcwc    100\n",
      "dtype: int32\n"
     ]
    }
   ],
   "source": [
    "revenue = Series(revenue_arr, index=['uber','ola','cscw','wcwc'])\n",
    "print(revenue)"
   ]
  },
  {
   "cell_type": "code",
   "execution_count": 30,
   "id": "1fdd7c51",
   "metadata": {},
   "outputs": [
    {
     "data": {
      "text/plain": [
       "300"
      ]
     },
     "execution_count": 30,
     "metadata": {},
     "output_type": "execute_result"
    }
   ],
   "source": [
    "revenue['ola']"
   ]
  },
  {
   "cell_type": "code",
   "execution_count": 31,
   "id": "9c3204d8",
   "metadata": {},
   "outputs": [
    {
     "name": "stdout",
     "output_type": "stream",
     "text": [
      "uber    400\n",
      "ola     300\n",
      "dtype: int32\n"
     ]
    }
   ],
   "source": [
    "print(revenue[revenue>250])"
   ]
  },
  {
   "cell_type": "code",
   "execution_count": 32,
   "id": "5d576342",
   "metadata": {},
   "outputs": [
    {
     "name": "stdout",
     "output_type": "stream",
     "text": [
      "True\n"
     ]
    }
   ],
   "source": [
    "print('ola' in revenue)"
   ]
  },
  {
   "cell_type": "code",
   "execution_count": 33,
   "id": "a1390e97",
   "metadata": {},
   "outputs": [
    {
     "name": "stdout",
     "output_type": "stream",
     "text": [
      "False\n"
     ]
    }
   ],
   "source": [
    "print('sdc' in revenue)"
   ]
  },
  {
   "cell_type": "code",
   "execution_count": 34,
   "id": "3c939798",
   "metadata": {},
   "outputs": [],
   "source": [
    "#to_dict()"
   ]
  },
  {
   "cell_type": "code",
   "execution_count": 35,
   "id": "e46d0024",
   "metadata": {},
   "outputs": [
    {
     "name": "stdout",
     "output_type": "stream",
     "text": [
      "{'uber': 400, 'ola': 300, 'cscw': 200, 'wcwc': 100}\n"
     ]
    }
   ],
   "source": [
    "revenue_dict = revenue.to_dict()\n",
    "print(revenue_dict)"
   ]
  },
  {
   "cell_type": "code",
   "execution_count": 36,
   "id": "c34e1612",
   "metadata": {},
   "outputs": [],
   "source": [
    "#addition of two series"
   ]
  },
  {
   "cell_type": "code",
   "execution_count": 37,
   "id": "ae46e3b7",
   "metadata": {
    "scrolled": true
   },
   "outputs": [
    {
     "name": "stdout",
     "output_type": "stream",
     "text": [
      "uber    400\n",
      "ola     300\n",
      "cscw    200\n",
      "wcwc    100\n",
      "dtype: int32\n",
      "uber    800\n",
      "ola     600\n",
      "cscw    400\n",
      "wcwc    200\n",
      "dtype: int32\n"
     ]
    }
   ],
   "source": [
    "print(revenue)\n",
    "print(revenue+revenue)"
   ]
  },
  {
   "cell_type": "code",
   "execution_count": 38,
   "id": "8c340fd9",
   "metadata": {},
   "outputs": [],
   "source": [
    "#assign name to series"
   ]
  },
  {
   "cell_type": "code",
   "execution_count": 39,
   "id": "437b3a3d",
   "metadata": {},
   "outputs": [],
   "source": [
    "revenue.name = \"Company - Revenue\"\n",
    "revenue.index.name = \"Company Name\""
   ]
  },
  {
   "cell_type": "code",
   "execution_count": 40,
   "id": "578218ad",
   "metadata": {},
   "outputs": [
    {
     "name": "stdout",
     "output_type": "stream",
     "text": [
      "Company Name\n",
      "uber    400\n",
      "ola     300\n",
      "cscw    200\n",
      "wcwc    100\n",
      "Name: Company - Revenue, dtype: int32\n"
     ]
    }
   ],
   "source": [
    "print(revenue)"
   ]
  },
  {
   "cell_type": "code",
   "execution_count": null,
   "id": "3bea6190",
   "metadata": {},
   "outputs": [],
   "source": []
  }
 ],
 "metadata": {
  "kernelspec": {
   "display_name": "Python 3 (ipykernel)",
   "language": "python",
   "name": "python3"
  },
  "language_info": {
   "codemirror_mode": {
    "name": "ipython",
    "version": 3
   },
   "file_extension": ".py",
   "mimetype": "text/x-python",
   "name": "python",
   "nbconvert_exporter": "python",
   "pygments_lexer": "ipython3",
   "version": "3.9.7"
  }
 },
 "nbformat": 4,
 "nbformat_minor": 5
}
